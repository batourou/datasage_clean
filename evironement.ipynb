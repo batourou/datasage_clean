{
 "cells": [
  {
   "cell_type": "markdown",
   "id": "f65b4143",
   "metadata": {},
   "source": [
    "# objectif est d'analyser un fichier excel qui contient des donnees d'une entreprise commercial  enfin de tires des informations clair "
   ]
  },
  {
   "cell_type": "code",
   "execution_count": 79,
   "id": "63aeaed1",
   "metadata": {},
   "outputs": [],
   "source": [
    "import numpy as np\n",
    "import pandas as pd\n",
    "import matplotlib.pyplot as plt\n",
    "import seaborn as sns"
   ]
  },
  {
   "cell_type": "markdown",
   "id": "db993c1d",
   "metadata": {},
   "source": [
    "# importation des ressousces "
   ]
  },
  {
   "cell_type": "code",
   "execution_count": 80,
   "id": "582de09a",
   "metadata": {},
   "outputs": [
    {
     "data": {
      "application/vnd.microsoft.datawrangler.viewer.v0+json": {
       "columns": [
        {
         "name": "index",
         "rawType": "int64",
         "type": "integer"
        },
        {
         "name": "Sub_Region_Cod",
         "rawType": "object",
         "type": "string"
        },
        {
         "name": "Colonne2",
         "rawType": "int64",
         "type": "integer"
        },
        {
         "name": "Colonne3",
         "rawType": "object",
         "type": "string"
        },
        {
         "name": "  Country_Cod",
         "rawType": "object",
         "type": "string"
        },
        {
         "name": "Colonne1",
         "rawType": "object",
         "type": "string"
        },
        {
         "name": "Categ",
         "rawType": "object",
         "type": "string"
        },
        {
         "name": "Colonne8",
         "rawType": "int64",
         "type": "integer"
        },
        {
         "name": "Colonne7",
         "rawType": "float64",
         "type": "float"
        },
        {
         "name": "Colonne6",
         "rawType": "int64",
         "type": "integer"
        },
        {
         "name": "Colonne5",
         "rawType": "int64",
         "type": "integer"
        },
        {
         "name": "Colonne4",
         "rawType": "object",
         "type": "string"
        },
        {
         "name": "Period",
         "rawType": "datetime64[ns]",
         "type": "datetime"
        },
        {
         "name": "Product_Ref",
         "rawType": "object",
         "type": "string"
        },
        {
         "name": "Sales",
         "rawType": "float64",
         "type": "float"
        }
       ],
       "conversionMethod": "pd.DataFrame",
       "ref": "968e0cba-2648-4b1a-9843-ede46874c895",
       "rows": [
        [
         "0",
         "EUE",
         "1",
         "Europe de l'Est",
         "RUS",
         "freq",
         "Haut-Et-Bas",
         "1",
         "1.6666666666666665",
         "1",
         "2020",
         "2020 T1",
         "2021-02-01 00:00:00",
         "P42590",
         "2095.59"
        ],
        [
         "1",
         "EUE",
         "1",
         "Europe de l'Est",
         "BLR",
         "Bélarus",
         "Haut",
         "2",
         "2.6666666666666665",
         "2",
         "2019",
         "2019 T2",
         "2020-04-01 00:00:00",
         "P16713",
         "8600.6"
        ],
        [
         "2",
         "EUE",
         "1",
         "Europe de l'Est",
         "ROU",
         "Roumanie",
         "Haut",
         "4",
         "4.666666666666667",
         "4",
         "2019",
         "2019 T4",
         "2019-10-01 00:00:00",
         "P28875",
         "8326.9"
        ],
        [
         "3",
         "EUE",
         "1",
         "Europe de l'Est",
         "MDA",
         "République de Moldavie",
         "Bas",
         "10",
         "10.666666666666666",
         "10",
         "2020",
         "2020 T10",
         "2019-12-01 00:00:00",
         "P48563",
         "3295.69"
        ],
        [
         "4",
         "EUE",
         "1",
         "Europe de l'Est",
         "BLR",
         "Bélarus",
         "Bas",
         "12",
         "12.666666666666666",
         "12",
         "2020",
         "2020 T12",
         "2020-06-01 00:00:00",
         "P34541",
         "6351.77"
        ]
       ],
       "shape": {
        "columns": 14,
        "rows": 5
       }
      },
      "text/html": [
       "<div>\n",
       "<style scoped>\n",
       "    .dataframe tbody tr th:only-of-type {\n",
       "        vertical-align: middle;\n",
       "    }\n",
       "\n",
       "    .dataframe tbody tr th {\n",
       "        vertical-align: top;\n",
       "    }\n",
       "\n",
       "    .dataframe thead th {\n",
       "        text-align: right;\n",
       "    }\n",
       "</style>\n",
       "<table border=\"1\" class=\"dataframe\">\n",
       "  <thead>\n",
       "    <tr style=\"text-align: right;\">\n",
       "      <th></th>\n",
       "      <th>Sub_Region_Cod</th>\n",
       "      <th>Colonne2</th>\n",
       "      <th>Colonne3</th>\n",
       "      <th>Country_Cod</th>\n",
       "      <th>Colonne1</th>\n",
       "      <th>Categ</th>\n",
       "      <th>Colonne8</th>\n",
       "      <th>Colonne7</th>\n",
       "      <th>Colonne6</th>\n",
       "      <th>Colonne5</th>\n",
       "      <th>Colonne4</th>\n",
       "      <th>Period</th>\n",
       "      <th>Product_Ref</th>\n",
       "      <th>Sales</th>\n",
       "    </tr>\n",
       "  </thead>\n",
       "  <tbody>\n",
       "    <tr>\n",
       "      <th>0</th>\n",
       "      <td>EUE</td>\n",
       "      <td>1</td>\n",
       "      <td>Europe de l'Est</td>\n",
       "      <td>RUS</td>\n",
       "      <td>freq</td>\n",
       "      <td>Haut-Et-Bas</td>\n",
       "      <td>1</td>\n",
       "      <td>1.666667</td>\n",
       "      <td>1</td>\n",
       "      <td>2020</td>\n",
       "      <td>2020 T1</td>\n",
       "      <td>2021-02-01</td>\n",
       "      <td>P42590</td>\n",
       "      <td>2095.59</td>\n",
       "    </tr>\n",
       "    <tr>\n",
       "      <th>1</th>\n",
       "      <td>EUE</td>\n",
       "      <td>1</td>\n",
       "      <td>Europe de l'Est</td>\n",
       "      <td>BLR</td>\n",
       "      <td>Bélarus</td>\n",
       "      <td>Haut</td>\n",
       "      <td>2</td>\n",
       "      <td>2.666667</td>\n",
       "      <td>2</td>\n",
       "      <td>2019</td>\n",
       "      <td>2019 T2</td>\n",
       "      <td>2020-04-01</td>\n",
       "      <td>P16713</td>\n",
       "      <td>8600.60</td>\n",
       "    </tr>\n",
       "    <tr>\n",
       "      <th>2</th>\n",
       "      <td>EUE</td>\n",
       "      <td>1</td>\n",
       "      <td>Europe de l'Est</td>\n",
       "      <td>ROU</td>\n",
       "      <td>Roumanie</td>\n",
       "      <td>Haut</td>\n",
       "      <td>4</td>\n",
       "      <td>4.666667</td>\n",
       "      <td>4</td>\n",
       "      <td>2019</td>\n",
       "      <td>2019 T4</td>\n",
       "      <td>2019-10-01</td>\n",
       "      <td>P28875</td>\n",
       "      <td>8326.90</td>\n",
       "    </tr>\n",
       "    <tr>\n",
       "      <th>3</th>\n",
       "      <td>EUE</td>\n",
       "      <td>1</td>\n",
       "      <td>Europe de l'Est</td>\n",
       "      <td>MDA</td>\n",
       "      <td>République de Moldavie</td>\n",
       "      <td>Bas</td>\n",
       "      <td>10</td>\n",
       "      <td>10.666667</td>\n",
       "      <td>10</td>\n",
       "      <td>2020</td>\n",
       "      <td>2020 T10</td>\n",
       "      <td>2019-12-01</td>\n",
       "      <td>P48563</td>\n",
       "      <td>3295.69</td>\n",
       "    </tr>\n",
       "    <tr>\n",
       "      <th>4</th>\n",
       "      <td>EUE</td>\n",
       "      <td>1</td>\n",
       "      <td>Europe de l'Est</td>\n",
       "      <td>BLR</td>\n",
       "      <td>Bélarus</td>\n",
       "      <td>Bas</td>\n",
       "      <td>12</td>\n",
       "      <td>12.666667</td>\n",
       "      <td>12</td>\n",
       "      <td>2020</td>\n",
       "      <td>2020 T12</td>\n",
       "      <td>2020-06-01</td>\n",
       "      <td>P34541</td>\n",
       "      <td>6351.77</td>\n",
       "    </tr>\n",
       "  </tbody>\n",
       "</table>\n",
       "</div>"
      ],
      "text/plain": [
       "  Sub_Region_Cod  Colonne2         Colonne3   Country_Cod  \\\n",
       "0            EUE         1  Europe de l'Est           RUS   \n",
       "1            EUE         1  Europe de l'Est           BLR   \n",
       "2            EUE         1  Europe de l'Est           ROU   \n",
       "3            EUE         1  Europe de l'Est           MDA   \n",
       "4            EUE         1  Europe de l'Est           BLR   \n",
       "\n",
       "                 Colonne1        Categ  Colonne8   Colonne7  Colonne6  \\\n",
       "0                    freq  Haut-Et-Bas         1   1.666667         1   \n",
       "1                 Bélarus         Haut         2   2.666667         2   \n",
       "2                Roumanie         Haut         4   4.666667         4   \n",
       "3  République de Moldavie          Bas        10  10.666667        10   \n",
       "4                 Bélarus          Bas        12  12.666667        12   \n",
       "\n",
       "   Colonne5  Colonne4     Period Product_Ref    Sales  \n",
       "0      2020   2020 T1 2021-02-01      P42590  2095.59  \n",
       "1      2019   2019 T2 2020-04-01      P16713  8600.60  \n",
       "2      2019   2019 T4 2019-10-01      P28875  8326.90  \n",
       "3      2020  2020 T10 2019-12-01      P48563  3295.69  \n",
       "4      2020  2020 T12 2020-06-01      P34541  6351.77  "
      ]
     },
     "execution_count": 80,
     "metadata": {},
     "output_type": "execute_result"
    }
   ],
   "source": [
    "df = pd.read_excel(\"ressource.xlsx\")\n",
    "df.head()"
   ]
  },
  {
   "cell_type": "markdown",
   "id": "0013781a",
   "metadata": {},
   "source": [
    "# verification des errers et netoyage  si necessaire"
   ]
  },
  {
   "cell_type": "code",
   "execution_count": 81,
   "id": "8143b064",
   "metadata": {},
   "outputs": [
    {
     "data": {
      "text/plain": [
       "Sub_Region_Cod            object\n",
       "Colonne2                   int64\n",
       "Colonne3                  object\n",
       "  Country_Cod             object\n",
       "Colonne1                  object\n",
       "Categ                     object\n",
       "Colonne8                   int64\n",
       "Colonne7                 float64\n",
       "Colonne6                   int64\n",
       "Colonne5                   int64\n",
       "Colonne4                  object\n",
       "Period            datetime64[ns]\n",
       "Product_Ref               object\n",
       "Sales                    float64\n",
       "dtype: object"
      ]
     },
     "execution_count": 81,
     "metadata": {},
     "output_type": "execute_result"
    }
   ],
   "source": [
    "df.dtypes"
   ]
  },
  {
   "cell_type": "markdown",
   "id": "0996c877",
   "metadata": {},
   "source": [
    "# verification des colonnes"
   ]
  },
  {
   "cell_type": "code",
   "execution_count": 82,
   "id": "ce6b5f9d",
   "metadata": {},
   "outputs": [
    {
     "data": {
      "text/plain": [
       "Index(['Sub_Region_Cod', 'Colonne2', 'Colonne3', '  Country_Cod', 'Colonne1',\n",
       "       'Categ', 'Colonne8', 'Colonne7', 'Colonne6', 'Colonne5', 'Colonne4',\n",
       "       'Period', 'Product_Ref', 'Sales'],\n",
       "      dtype='object')"
      ]
     },
     "execution_count": 82,
     "metadata": {},
     "output_type": "execute_result"
    }
   ],
   "source": [
    "colones = df.columns\n",
    "colones"
   ]
  },
  {
   "cell_type": "markdown",
   "id": "e02415ad",
   "metadata": {},
   "source": [
    "# j'efface les colonnes inutile"
   ]
  },
  {
   "cell_type": "code",
   "execution_count": 83,
   "id": "7a67a314",
   "metadata": {},
   "outputs": [
    {
     "data": {
      "application/vnd.microsoft.datawrangler.viewer.v0+json": {
       "columns": [
        {
         "name": "index",
         "rawType": "int64",
         "type": "integer"
        },
        {
         "name": "Sub_Region_Cod",
         "rawType": "object",
         "type": "string"
        },
        {
         "name": "  Country_Cod",
         "rawType": "object",
         "type": "string"
        },
        {
         "name": "Colonne1",
         "rawType": "object",
         "type": "string"
        },
        {
         "name": "Categ",
         "rawType": "object",
         "type": "string"
        },
        {
         "name": "Period",
         "rawType": "datetime64[ns]",
         "type": "datetime"
        },
        {
         "name": "Product_Ref",
         "rawType": "object",
         "type": "string"
        },
        {
         "name": "Sales",
         "rawType": "float64",
         "type": "float"
        }
       ],
       "conversionMethod": "pd.DataFrame",
       "ref": "63d92386-f4bb-46b7-9721-09acbb9f44fc",
       "rows": [
        [
         "0",
         "EUE",
         "RUS",
         "freq",
         "Haut-Et-Bas",
         "2021-02-01 00:00:00",
         "P42590",
         "2095.59"
        ],
        [
         "1",
         "EUE",
         "BLR",
         "Bélarus",
         "Haut",
         "2020-04-01 00:00:00",
         "P16713",
         "8600.6"
        ],
        [
         "2",
         "EUE",
         "ROU",
         "Roumanie",
         "Haut",
         "2019-10-01 00:00:00",
         "P28875",
         "8326.9"
        ],
        [
         "3",
         "EUE",
         "MDA",
         "République de Moldavie",
         "Bas",
         "2019-12-01 00:00:00",
         "P48563",
         "3295.69"
        ],
        [
         "4",
         "EUE",
         "BLR",
         "Bélarus",
         "Bas",
         "2020-06-01 00:00:00",
         "P34541",
         "6351.77"
        ],
        [
         "5",
         "EUE",
         "RUS",
         "Fédération de Russie",
         "Haut",
         "2020-09-01 00:00:00",
         "P42148",
         "46.42"
        ],
        [
         "6",
         "EUE",
         "BLR",
         "Bélarus",
         "Haut",
         "2020-04-01 00:00:00",
         "P26302",
         "7251.88"
        ],
        [
         "7",
         "EUE",
         "MDA",
         "République de Moldavie",
         "Haut",
         "2019-12-01 00:00:00",
         "P20074",
         "2661.71"
        ],
        [
         "8",
         "EUE",
         "UKR",
         "Ukraine",
         "Haut",
         "2019-06-01 00:00:00",
         "P33876",
         "2413.77"
        ],
        [
         "9",
         "EUE",
         "SVK",
         "Slovaquie",
         "Haut-Et-Bas",
         "2019-11-01 00:00:00",
         "P06881",
         "2343.6"
        ],
        [
         "10",
         "EUE",
         "BGR",
         "Bulgarie",
         "Haut-Et-Bas",
         "2020-10-01 00:00:00",
         "P38488",
         "4445.86"
        ],
        [
         "11",
         "EUE",
         "SVK",
         "Slovaquie",
         "Bas",
         "2020-03-01 00:00:00",
         "P18732",
         "8206.44"
        ],
        [
         "12",
         "EUE",
         "HUN",
         "Hongrie",
         "Bas",
         "2020-12-01 00:00:00",
         "P44127",
         "119.4"
        ],
        [
         "13",
         "EUE",
         "HUN",
         "Hongrie",
         "Haut",
         "2019-07-01 00:00:00",
         "P16713",
         "6269.94"
        ],
        [
         "14",
         "EUE",
         "HUN",
         "Hongrie",
         "Bas",
         "2019-08-01 00:00:00",
         "P20509",
         "3100.67"
        ],
        [
         "15",
         "EUE",
         "ARM",
         "Arménie",
         "Bas",
         "2020-05-01 00:00:00",
         "P04306",
         "9436.79"
        ],
        [
         "16",
         "EUE",
         "POL",
         "Pologne",
         "Haut",
         "2019-09-01 00:00:00",
         "P27773",
         "4240.68"
        ],
        [
         "17",
         "EUE",
         "ROU",
         "Roumanie",
         "Bas",
         "2020-12-01 00:00:00",
         "P40346",
         "8801.89"
        ],
        [
         "18",
         "EUE",
         "SVK",
         "Slovaquie",
         "Haut",
         "2021-01-01 00:00:00",
         "P21413",
         "4044.83"
        ],
        [
         "19",
         "EUE",
         "BLR",
         "Bélarus",
         "Bas",
         "2020-12-01 00:00:00",
         "P36100",
         "183.28"
        ],
        [
         "20",
         "EUE",
         "ROU",
         "Roumanie",
         "Haut",
         "2019-12-01 00:00:00",
         "P32328",
         "6348.65"
        ],
        [
         "21",
         "EUE",
         "POL",
         "Pologne",
         "Haut",
         "2020-03-01 00:00:00",
         "P37833",
         "5871.83"
        ],
        [
         "22",
         "EUE",
         "HUN",
         "Hongrie",
         "Haut",
         "2020-02-01 00:00:00",
         "P48783",
         "424.98"
        ],
        [
         "23",
         "EUE",
         "POL",
         "Pologne",
         "Bas",
         "2020-12-01 00:00:00",
         "P44662",
         "204.26"
        ],
        [
         "24",
         "EUE",
         "CZE",
         "République Tchèque",
         "Bas",
         "2019-05-01 00:00:00",
         "P16494",
         "6203.86"
        ],
        [
         "25",
         "EUE",
         "POL",
         "Pologne",
         "Haut",
         "2021-01-01 00:00:00",
         "P30841",
         "1145.48"
        ],
        [
         "26",
         "EUE",
         "SVK",
         "Slovaquie",
         "Haut",
         "2019-10-01 00:00:00",
         "P42148",
         "5032.4"
        ],
        [
         "27",
         "EUE",
         "BGR",
         "Bulgarie",
         "Haut",
         "2020-02-01 00:00:00",
         "P42161",
         "4939.58"
        ],
        [
         "28",
         "EUE",
         "BLR",
         "Bélarus",
         "Bas",
         "2019-05-01 00:00:00",
         "P17447",
         "3442.11"
        ],
        [
         "29",
         "EUE",
         "UKR",
         "Ukraine",
         "Bas",
         "2020-05-01 00:00:00",
         "P13878",
         "6735.3"
        ],
        [
         "30",
         "EUE",
         "UKR",
         "Ukraine",
         "Bas",
         "2020-12-01 00:00:00",
         "P49225",
         "4310.27"
        ],
        [
         "31",
         "EUE",
         "UKR",
         "Ukraine",
         "Haut",
         "2021-02-01 00:00:00",
         "P03909",
         "3631.25"
        ],
        [
         "32",
         "EUE",
         "UKR",
         "Ukraine",
         "Haut",
         "2020-11-01 00:00:00",
         "P49187",
         "7543.79"
        ],
        [
         "33",
         "EUE",
         "RUS",
         "Fédération de Russie",
         "Haut",
         "2020-07-01 00:00:00",
         "P34404",
         "2981.74"
        ],
        [
         "34",
         "EUE",
         "RUS",
         "Fédération de Russie",
         "Haut",
         "2019-06-01 00:00:00",
         "P40834",
         "8247.67"
        ],
        [
         "35",
         "EUE",
         "BLR",
         "Bélarus",
         "Haut",
         "2020-04-01 00:00:00",
         "P48783",
         "7349.49"
        ],
        [
         "36",
         "EUE",
         "BGR",
         "Bulgarie",
         "Haut",
         "2020-05-01 00:00:00",
         "P02605",
         "8484.22"
        ],
        [
         "37",
         "EUE",
         "MDA",
         "République de Moldavie",
         "Bas",
         "2020-11-01 00:00:00",
         "P00865",
         "7539.7"
        ],
        [
         "38",
         "EUE",
         "MDA",
         "République de Moldavie",
         "Haut-Et-Bas",
         "2020-06-01 00:00:00",
         "P25724",
         "1703.99"
        ],
        [
         "39",
         "EUE",
         "MDA",
         "République de Moldavie",
         "Haut",
         "2020-07-01 00:00:00",
         "P28350",
         "1314.9"
        ],
        [
         "40",
         "EUE",
         "RUS",
         "Fédération de Russie",
         "Haut",
         "2020-05-01 00:00:00",
         "P33264",
         "4090.56"
        ],
        [
         "41",
         "EUE",
         "MDA",
         "République de Moldavie",
         "Haut",
         "2020-06-01 00:00:00",
         "P26144",
         "3161.45"
        ],
        [
         "42",
         "EUE",
         "ROU",
         "Roumanie",
         "Haut",
         "2020-06-01 00:00:00",
         "P03320",
         "2570.1"
        ],
        [
         "43",
         "EUE",
         "UKR",
         "Ukraine",
         "Haut",
         "2019-09-01 00:00:00",
         "P06948",
         "7922.39"
        ],
        [
         "44",
         "EUE",
         "POL",
         "Pologne",
         "Bas",
         "2019-10-01 00:00:00",
         "P15184",
         "623.96"
        ],
        [
         "45",
         "EUE",
         "POL",
         "Pologne",
         "Bas",
         "2019-07-01 00:00:00",
         "P42950",
         "1644.28"
        ],
        [
         "46",
         "EUE",
         "POL",
         "Pologne",
         "Bas",
         "2021-01-01 00:00:00",
         "P47852",
         "4053.67"
        ],
        [
         "47",
         "EUE",
         "MDA",
         "République de Moldavie",
         "Haut-Et-Bas",
         "2020-12-01 00:00:00",
         "P01822",
         "1701.91"
        ],
        [
         "48",
         "EUE",
         "MDA",
         "République de Moldavie",
         "Bas",
         "2019-10-01 00:00:00",
         "P39306",
         "5540.2"
        ],
        [
         "49",
         "EUE",
         "POL",
         "Pologne",
         "Haut-Et-Bas",
         "2021-04-01 00:00:00",
         "P00575",
         "992.28"
        ]
       ],
       "shape": {
        "columns": 7,
        "rows": 1115
       }
      },
      "text/html": [
       "<div>\n",
       "<style scoped>\n",
       "    .dataframe tbody tr th:only-of-type {\n",
       "        vertical-align: middle;\n",
       "    }\n",
       "\n",
       "    .dataframe tbody tr th {\n",
       "        vertical-align: top;\n",
       "    }\n",
       "\n",
       "    .dataframe thead th {\n",
       "        text-align: right;\n",
       "    }\n",
       "</style>\n",
       "<table border=\"1\" class=\"dataframe\">\n",
       "  <thead>\n",
       "    <tr style=\"text-align: right;\">\n",
       "      <th></th>\n",
       "      <th>Sub_Region_Cod</th>\n",
       "      <th>Country_Cod</th>\n",
       "      <th>Colonne1</th>\n",
       "      <th>Categ</th>\n",
       "      <th>Period</th>\n",
       "      <th>Product_Ref</th>\n",
       "      <th>Sales</th>\n",
       "    </tr>\n",
       "  </thead>\n",
       "  <tbody>\n",
       "    <tr>\n",
       "      <th>0</th>\n",
       "      <td>EUE</td>\n",
       "      <td>RUS</td>\n",
       "      <td>freq</td>\n",
       "      <td>Haut-Et-Bas</td>\n",
       "      <td>2021-02-01</td>\n",
       "      <td>P42590</td>\n",
       "      <td>2095.59</td>\n",
       "    </tr>\n",
       "    <tr>\n",
       "      <th>1</th>\n",
       "      <td>EUE</td>\n",
       "      <td>BLR</td>\n",
       "      <td>Bélarus</td>\n",
       "      <td>Haut</td>\n",
       "      <td>2020-04-01</td>\n",
       "      <td>P16713</td>\n",
       "      <td>8600.60</td>\n",
       "    </tr>\n",
       "    <tr>\n",
       "      <th>2</th>\n",
       "      <td>EUE</td>\n",
       "      <td>ROU</td>\n",
       "      <td>Roumanie</td>\n",
       "      <td>Haut</td>\n",
       "      <td>2019-10-01</td>\n",
       "      <td>P28875</td>\n",
       "      <td>8326.90</td>\n",
       "    </tr>\n",
       "    <tr>\n",
       "      <th>3</th>\n",
       "      <td>EUE</td>\n",
       "      <td>MDA</td>\n",
       "      <td>République de Moldavie</td>\n",
       "      <td>Bas</td>\n",
       "      <td>2019-12-01</td>\n",
       "      <td>P48563</td>\n",
       "      <td>3295.69</td>\n",
       "    </tr>\n",
       "    <tr>\n",
       "      <th>4</th>\n",
       "      <td>EUE</td>\n",
       "      <td>BLR</td>\n",
       "      <td>Bélarus</td>\n",
       "      <td>Bas</td>\n",
       "      <td>2020-06-01</td>\n",
       "      <td>P34541</td>\n",
       "      <td>6351.77</td>\n",
       "    </tr>\n",
       "    <tr>\n",
       "      <th>...</th>\n",
       "      <td>...</td>\n",
       "      <td>...</td>\n",
       "      <td>...</td>\n",
       "      <td>...</td>\n",
       "      <td>...</td>\n",
       "      <td>...</td>\n",
       "      <td>...</td>\n",
       "    </tr>\n",
       "    <tr>\n",
       "      <th>1110</th>\n",
       "      <td>EUE</td>\n",
       "      <td>BLR</td>\n",
       "      <td>Bélarus</td>\n",
       "      <td>Haut-Et-Bas</td>\n",
       "      <td>2021-02-01</td>\n",
       "      <td>P47218</td>\n",
       "      <td>9043.65</td>\n",
       "    </tr>\n",
       "    <tr>\n",
       "      <th>1111</th>\n",
       "      <td>EUE</td>\n",
       "      <td>ARM</td>\n",
       "      <td>Arménie</td>\n",
       "      <td>Haut</td>\n",
       "      <td>2021-01-01</td>\n",
       "      <td>P22419</td>\n",
       "      <td>6450.55</td>\n",
       "    </tr>\n",
       "    <tr>\n",
       "      <th>1112</th>\n",
       "      <td>EUE</td>\n",
       "      <td>BLR</td>\n",
       "      <td>Bélarus</td>\n",
       "      <td>Haut</td>\n",
       "      <td>2021-01-01</td>\n",
       "      <td>P26371</td>\n",
       "      <td>7187.45</td>\n",
       "    </tr>\n",
       "    <tr>\n",
       "      <th>1113</th>\n",
       "      <td>EUE</td>\n",
       "      <td>HUN</td>\n",
       "      <td>Hongrie</td>\n",
       "      <td>Bas</td>\n",
       "      <td>2020-11-01</td>\n",
       "      <td>P22923</td>\n",
       "      <td>9970.65</td>\n",
       "    </tr>\n",
       "    <tr>\n",
       "      <th>1114</th>\n",
       "      <td>EUE</td>\n",
       "      <td>POL</td>\n",
       "      <td>Pologne</td>\n",
       "      <td>Haut-Et-Bas</td>\n",
       "      <td>2020-07-01</td>\n",
       "      <td>P25724</td>\n",
       "      <td>7098.83</td>\n",
       "    </tr>\n",
       "  </tbody>\n",
       "</table>\n",
       "<p>1115 rows × 7 columns</p>\n",
       "</div>"
      ],
      "text/plain": [
       "     Sub_Region_Cod   Country_Cod                Colonne1        Categ  \\\n",
       "0               EUE           RUS                    freq  Haut-Et-Bas   \n",
       "1               EUE           BLR                 Bélarus         Haut   \n",
       "2               EUE           ROU                Roumanie         Haut   \n",
       "3               EUE           MDA  République de Moldavie          Bas   \n",
       "4               EUE           BLR                 Bélarus          Bas   \n",
       "...             ...           ...                     ...          ...   \n",
       "1110            EUE           BLR                 Bélarus  Haut-Et-Bas   \n",
       "1111            EUE           ARM                 Arménie         Haut   \n",
       "1112            EUE           BLR                 Bélarus         Haut   \n",
       "1113            EUE           HUN                 Hongrie          Bas   \n",
       "1114            EUE           POL                 Pologne  Haut-Et-Bas   \n",
       "\n",
       "         Period Product_Ref    Sales  \n",
       "0    2021-02-01      P42590  2095.59  \n",
       "1    2020-04-01      P16713  8600.60  \n",
       "2    2019-10-01      P28875  8326.90  \n",
       "3    2019-12-01      P48563  3295.69  \n",
       "4    2020-06-01      P34541  6351.77  \n",
       "...         ...         ...      ...  \n",
       "1110 2021-02-01      P47218  9043.65  \n",
       "1111 2021-01-01      P22419  6450.55  \n",
       "1112 2021-01-01      P26371  7187.45  \n",
       "1113 2020-11-01      P22923  9970.65  \n",
       "1114 2020-07-01      P25724  7098.83  \n",
       "\n",
       "[1115 rows x 7 columns]"
      ]
     },
     "execution_count": 83,
     "metadata": {},
     "output_type": "execute_result"
    }
   ],
   "source": [
    "df1 = df.drop(columns=['Colonne2','Colonne3','Colonne4','Colonne5','Colonne6','Colonne7','Colonne8'])\n",
    "df1"
   ]
  },
  {
   "cell_type": "markdown",
   "id": "ecbe2bbc",
   "metadata": {},
   "source": [
    "# je renome la colonnnes1 : pays"
   ]
  },
  {
   "cell_type": "code",
   "execution_count": 84,
   "id": "69b26b02",
   "metadata": {},
   "outputs": [
    {
     "data": {
      "application/vnd.microsoft.datawrangler.viewer.v0+json": {
       "columns": [
        {
         "name": "index",
         "rawType": "int64",
         "type": "integer"
        },
        {
         "name": "Sub_Region_Cod",
         "rawType": "object",
         "type": "string"
        },
        {
         "name": "  Country_Cod",
         "rawType": "object",
         "type": "string"
        },
        {
         "name": "pays",
         "rawType": "object",
         "type": "string"
        },
        {
         "name": "Categ",
         "rawType": "object",
         "type": "string"
        },
        {
         "name": "Period",
         "rawType": "datetime64[ns]",
         "type": "datetime"
        },
        {
         "name": "Product_Ref",
         "rawType": "object",
         "type": "string"
        },
        {
         "name": "Sales",
         "rawType": "float64",
         "type": "float"
        }
       ],
       "conversionMethod": "pd.DataFrame",
       "ref": "3604ff9c-8f29-4290-8cad-83de4b1b35e0",
       "rows": [
        [
         "0",
         "EUE",
         "RUS",
         "freq",
         "Haut-Et-Bas",
         "2021-02-01 00:00:00",
         "P42590",
         "2095.59"
        ],
        [
         "1",
         "EUE",
         "BLR",
         "Bélarus",
         "Haut",
         "2020-04-01 00:00:00",
         "P16713",
         "8600.6"
        ],
        [
         "2",
         "EUE",
         "ROU",
         "Roumanie",
         "Haut",
         "2019-10-01 00:00:00",
         "P28875",
         "8326.9"
        ],
        [
         "3",
         "EUE",
         "MDA",
         "République de Moldavie",
         "Bas",
         "2019-12-01 00:00:00",
         "P48563",
         "3295.69"
        ],
        [
         "4",
         "EUE",
         "BLR",
         "Bélarus",
         "Bas",
         "2020-06-01 00:00:00",
         "P34541",
         "6351.77"
        ],
        [
         "5",
         "EUE",
         "RUS",
         "Fédération de Russie",
         "Haut",
         "2020-09-01 00:00:00",
         "P42148",
         "46.42"
        ],
        [
         "6",
         "EUE",
         "BLR",
         "Bélarus",
         "Haut",
         "2020-04-01 00:00:00",
         "P26302",
         "7251.88"
        ],
        [
         "7",
         "EUE",
         "MDA",
         "République de Moldavie",
         "Haut",
         "2019-12-01 00:00:00",
         "P20074",
         "2661.71"
        ],
        [
         "8",
         "EUE",
         "UKR",
         "Ukraine",
         "Haut",
         "2019-06-01 00:00:00",
         "P33876",
         "2413.77"
        ],
        [
         "9",
         "EUE",
         "SVK",
         "Slovaquie",
         "Haut-Et-Bas",
         "2019-11-01 00:00:00",
         "P06881",
         "2343.6"
        ],
        [
         "10",
         "EUE",
         "BGR",
         "Bulgarie",
         "Haut-Et-Bas",
         "2020-10-01 00:00:00",
         "P38488",
         "4445.86"
        ],
        [
         "11",
         "EUE",
         "SVK",
         "Slovaquie",
         "Bas",
         "2020-03-01 00:00:00",
         "P18732",
         "8206.44"
        ],
        [
         "12",
         "EUE",
         "HUN",
         "Hongrie",
         "Bas",
         "2020-12-01 00:00:00",
         "P44127",
         "119.4"
        ],
        [
         "13",
         "EUE",
         "HUN",
         "Hongrie",
         "Haut",
         "2019-07-01 00:00:00",
         "P16713",
         "6269.94"
        ],
        [
         "14",
         "EUE",
         "HUN",
         "Hongrie",
         "Bas",
         "2019-08-01 00:00:00",
         "P20509",
         "3100.67"
        ],
        [
         "15",
         "EUE",
         "ARM",
         "Arménie",
         "Bas",
         "2020-05-01 00:00:00",
         "P04306",
         "9436.79"
        ],
        [
         "16",
         "EUE",
         "POL",
         "Pologne",
         "Haut",
         "2019-09-01 00:00:00",
         "P27773",
         "4240.68"
        ],
        [
         "17",
         "EUE",
         "ROU",
         "Roumanie",
         "Bas",
         "2020-12-01 00:00:00",
         "P40346",
         "8801.89"
        ],
        [
         "18",
         "EUE",
         "SVK",
         "Slovaquie",
         "Haut",
         "2021-01-01 00:00:00",
         "P21413",
         "4044.83"
        ],
        [
         "19",
         "EUE",
         "BLR",
         "Bélarus",
         "Bas",
         "2020-12-01 00:00:00",
         "P36100",
         "183.28"
        ],
        [
         "20",
         "EUE",
         "ROU",
         "Roumanie",
         "Haut",
         "2019-12-01 00:00:00",
         "P32328",
         "6348.65"
        ],
        [
         "21",
         "EUE",
         "POL",
         "Pologne",
         "Haut",
         "2020-03-01 00:00:00",
         "P37833",
         "5871.83"
        ],
        [
         "22",
         "EUE",
         "HUN",
         "Hongrie",
         "Haut",
         "2020-02-01 00:00:00",
         "P48783",
         "424.98"
        ],
        [
         "23",
         "EUE",
         "POL",
         "Pologne",
         "Bas",
         "2020-12-01 00:00:00",
         "P44662",
         "204.26"
        ],
        [
         "24",
         "EUE",
         "CZE",
         "République Tchèque",
         "Bas",
         "2019-05-01 00:00:00",
         "P16494",
         "6203.86"
        ],
        [
         "25",
         "EUE",
         "POL",
         "Pologne",
         "Haut",
         "2021-01-01 00:00:00",
         "P30841",
         "1145.48"
        ],
        [
         "26",
         "EUE",
         "SVK",
         "Slovaquie",
         "Haut",
         "2019-10-01 00:00:00",
         "P42148",
         "5032.4"
        ],
        [
         "27",
         "EUE",
         "BGR",
         "Bulgarie",
         "Haut",
         "2020-02-01 00:00:00",
         "P42161",
         "4939.58"
        ],
        [
         "28",
         "EUE",
         "BLR",
         "Bélarus",
         "Bas",
         "2019-05-01 00:00:00",
         "P17447",
         "3442.11"
        ],
        [
         "29",
         "EUE",
         "UKR",
         "Ukraine",
         "Bas",
         "2020-05-01 00:00:00",
         "P13878",
         "6735.3"
        ],
        [
         "30",
         "EUE",
         "UKR",
         "Ukraine",
         "Bas",
         "2020-12-01 00:00:00",
         "P49225",
         "4310.27"
        ],
        [
         "31",
         "EUE",
         "UKR",
         "Ukraine",
         "Haut",
         "2021-02-01 00:00:00",
         "P03909",
         "3631.25"
        ],
        [
         "32",
         "EUE",
         "UKR",
         "Ukraine",
         "Haut",
         "2020-11-01 00:00:00",
         "P49187",
         "7543.79"
        ],
        [
         "33",
         "EUE",
         "RUS",
         "Fédération de Russie",
         "Haut",
         "2020-07-01 00:00:00",
         "P34404",
         "2981.74"
        ],
        [
         "34",
         "EUE",
         "RUS",
         "Fédération de Russie",
         "Haut",
         "2019-06-01 00:00:00",
         "P40834",
         "8247.67"
        ],
        [
         "35",
         "EUE",
         "BLR",
         "Bélarus",
         "Haut",
         "2020-04-01 00:00:00",
         "P48783",
         "7349.49"
        ],
        [
         "36",
         "EUE",
         "BGR",
         "Bulgarie",
         "Haut",
         "2020-05-01 00:00:00",
         "P02605",
         "8484.22"
        ],
        [
         "37",
         "EUE",
         "MDA",
         "République de Moldavie",
         "Bas",
         "2020-11-01 00:00:00",
         "P00865",
         "7539.7"
        ],
        [
         "38",
         "EUE",
         "MDA",
         "République de Moldavie",
         "Haut-Et-Bas",
         "2020-06-01 00:00:00",
         "P25724",
         "1703.99"
        ],
        [
         "39",
         "EUE",
         "MDA",
         "République de Moldavie",
         "Haut",
         "2020-07-01 00:00:00",
         "P28350",
         "1314.9"
        ],
        [
         "40",
         "EUE",
         "RUS",
         "Fédération de Russie",
         "Haut",
         "2020-05-01 00:00:00",
         "P33264",
         "4090.56"
        ],
        [
         "41",
         "EUE",
         "MDA",
         "République de Moldavie",
         "Haut",
         "2020-06-01 00:00:00",
         "P26144",
         "3161.45"
        ],
        [
         "42",
         "EUE",
         "ROU",
         "Roumanie",
         "Haut",
         "2020-06-01 00:00:00",
         "P03320",
         "2570.1"
        ],
        [
         "43",
         "EUE",
         "UKR",
         "Ukraine",
         "Haut",
         "2019-09-01 00:00:00",
         "P06948",
         "7922.39"
        ],
        [
         "44",
         "EUE",
         "POL",
         "Pologne",
         "Bas",
         "2019-10-01 00:00:00",
         "P15184",
         "623.96"
        ],
        [
         "45",
         "EUE",
         "POL",
         "Pologne",
         "Bas",
         "2019-07-01 00:00:00",
         "P42950",
         "1644.28"
        ],
        [
         "46",
         "EUE",
         "POL",
         "Pologne",
         "Bas",
         "2021-01-01 00:00:00",
         "P47852",
         "4053.67"
        ],
        [
         "47",
         "EUE",
         "MDA",
         "République de Moldavie",
         "Haut-Et-Bas",
         "2020-12-01 00:00:00",
         "P01822",
         "1701.91"
        ],
        [
         "48",
         "EUE",
         "MDA",
         "République de Moldavie",
         "Bas",
         "2019-10-01 00:00:00",
         "P39306",
         "5540.2"
        ],
        [
         "49",
         "EUE",
         "POL",
         "Pologne",
         "Haut-Et-Bas",
         "2021-04-01 00:00:00",
         "P00575",
         "992.28"
        ]
       ],
       "shape": {
        "columns": 7,
        "rows": 1115
       }
      },
      "text/html": [
       "<div>\n",
       "<style scoped>\n",
       "    .dataframe tbody tr th:only-of-type {\n",
       "        vertical-align: middle;\n",
       "    }\n",
       "\n",
       "    .dataframe tbody tr th {\n",
       "        vertical-align: top;\n",
       "    }\n",
       "\n",
       "    .dataframe thead th {\n",
       "        text-align: right;\n",
       "    }\n",
       "</style>\n",
       "<table border=\"1\" class=\"dataframe\">\n",
       "  <thead>\n",
       "    <tr style=\"text-align: right;\">\n",
       "      <th></th>\n",
       "      <th>Sub_Region_Cod</th>\n",
       "      <th>Country_Cod</th>\n",
       "      <th>pays</th>\n",
       "      <th>Categ</th>\n",
       "      <th>Period</th>\n",
       "      <th>Product_Ref</th>\n",
       "      <th>Sales</th>\n",
       "    </tr>\n",
       "  </thead>\n",
       "  <tbody>\n",
       "    <tr>\n",
       "      <th>0</th>\n",
       "      <td>EUE</td>\n",
       "      <td>RUS</td>\n",
       "      <td>freq</td>\n",
       "      <td>Haut-Et-Bas</td>\n",
       "      <td>2021-02-01</td>\n",
       "      <td>P42590</td>\n",
       "      <td>2095.59</td>\n",
       "    </tr>\n",
       "    <tr>\n",
       "      <th>1</th>\n",
       "      <td>EUE</td>\n",
       "      <td>BLR</td>\n",
       "      <td>Bélarus</td>\n",
       "      <td>Haut</td>\n",
       "      <td>2020-04-01</td>\n",
       "      <td>P16713</td>\n",
       "      <td>8600.60</td>\n",
       "    </tr>\n",
       "    <tr>\n",
       "      <th>2</th>\n",
       "      <td>EUE</td>\n",
       "      <td>ROU</td>\n",
       "      <td>Roumanie</td>\n",
       "      <td>Haut</td>\n",
       "      <td>2019-10-01</td>\n",
       "      <td>P28875</td>\n",
       "      <td>8326.90</td>\n",
       "    </tr>\n",
       "    <tr>\n",
       "      <th>3</th>\n",
       "      <td>EUE</td>\n",
       "      <td>MDA</td>\n",
       "      <td>République de Moldavie</td>\n",
       "      <td>Bas</td>\n",
       "      <td>2019-12-01</td>\n",
       "      <td>P48563</td>\n",
       "      <td>3295.69</td>\n",
       "    </tr>\n",
       "    <tr>\n",
       "      <th>4</th>\n",
       "      <td>EUE</td>\n",
       "      <td>BLR</td>\n",
       "      <td>Bélarus</td>\n",
       "      <td>Bas</td>\n",
       "      <td>2020-06-01</td>\n",
       "      <td>P34541</td>\n",
       "      <td>6351.77</td>\n",
       "    </tr>\n",
       "    <tr>\n",
       "      <th>...</th>\n",
       "      <td>...</td>\n",
       "      <td>...</td>\n",
       "      <td>...</td>\n",
       "      <td>...</td>\n",
       "      <td>...</td>\n",
       "      <td>...</td>\n",
       "      <td>...</td>\n",
       "    </tr>\n",
       "    <tr>\n",
       "      <th>1110</th>\n",
       "      <td>EUE</td>\n",
       "      <td>BLR</td>\n",
       "      <td>Bélarus</td>\n",
       "      <td>Haut-Et-Bas</td>\n",
       "      <td>2021-02-01</td>\n",
       "      <td>P47218</td>\n",
       "      <td>9043.65</td>\n",
       "    </tr>\n",
       "    <tr>\n",
       "      <th>1111</th>\n",
       "      <td>EUE</td>\n",
       "      <td>ARM</td>\n",
       "      <td>Arménie</td>\n",
       "      <td>Haut</td>\n",
       "      <td>2021-01-01</td>\n",
       "      <td>P22419</td>\n",
       "      <td>6450.55</td>\n",
       "    </tr>\n",
       "    <tr>\n",
       "      <th>1112</th>\n",
       "      <td>EUE</td>\n",
       "      <td>BLR</td>\n",
       "      <td>Bélarus</td>\n",
       "      <td>Haut</td>\n",
       "      <td>2021-01-01</td>\n",
       "      <td>P26371</td>\n",
       "      <td>7187.45</td>\n",
       "    </tr>\n",
       "    <tr>\n",
       "      <th>1113</th>\n",
       "      <td>EUE</td>\n",
       "      <td>HUN</td>\n",
       "      <td>Hongrie</td>\n",
       "      <td>Bas</td>\n",
       "      <td>2020-11-01</td>\n",
       "      <td>P22923</td>\n",
       "      <td>9970.65</td>\n",
       "    </tr>\n",
       "    <tr>\n",
       "      <th>1114</th>\n",
       "      <td>EUE</td>\n",
       "      <td>POL</td>\n",
       "      <td>Pologne</td>\n",
       "      <td>Haut-Et-Bas</td>\n",
       "      <td>2020-07-01</td>\n",
       "      <td>P25724</td>\n",
       "      <td>7098.83</td>\n",
       "    </tr>\n",
       "  </tbody>\n",
       "</table>\n",
       "<p>1115 rows × 7 columns</p>\n",
       "</div>"
      ],
      "text/plain": [
       "     Sub_Region_Cod   Country_Cod                    pays        Categ  \\\n",
       "0               EUE           RUS                    freq  Haut-Et-Bas   \n",
       "1               EUE           BLR                 Bélarus         Haut   \n",
       "2               EUE           ROU                Roumanie         Haut   \n",
       "3               EUE           MDA  République de Moldavie          Bas   \n",
       "4               EUE           BLR                 Bélarus          Bas   \n",
       "...             ...           ...                     ...          ...   \n",
       "1110            EUE           BLR                 Bélarus  Haut-Et-Bas   \n",
       "1111            EUE           ARM                 Arménie         Haut   \n",
       "1112            EUE           BLR                 Bélarus         Haut   \n",
       "1113            EUE           HUN                 Hongrie          Bas   \n",
       "1114            EUE           POL                 Pologne  Haut-Et-Bas   \n",
       "\n",
       "         Period Product_Ref    Sales  \n",
       "0    2021-02-01      P42590  2095.59  \n",
       "1    2020-04-01      P16713  8600.60  \n",
       "2    2019-10-01      P28875  8326.90  \n",
       "3    2019-12-01      P48563  3295.69  \n",
       "4    2020-06-01      P34541  6351.77  \n",
       "...         ...         ...      ...  \n",
       "1110 2021-02-01      P47218  9043.65  \n",
       "1111 2021-01-01      P22419  6450.55  \n",
       "1112 2021-01-01      P26371  7187.45  \n",
       "1113 2020-11-01      P22923  9970.65  \n",
       "1114 2020-07-01      P25724  7098.83  \n",
       "\n",
       "[1115 rows x 7 columns]"
      ]
     },
     "execution_count": 84,
     "metadata": {},
     "output_type": "execute_result"
    }
   ],
   "source": [
    "df1.rename(columns ={'Colonne1':'pays'},inplace=True)\n",
    "df1"
   ]
  },
  {
   "cell_type": "markdown",
   "id": "f83f6285",
   "metadata": {},
   "source": [
    "# les erreurs lexical"
   ]
  },
  {
   "cell_type": "code",
   "execution_count": 85,
   "id": "d1ed728e",
   "metadata": {},
   "outputs": [],
   "source": [
    "list_pays = ['pays','Arménie','Bulgarie','Bélarus','Fédération de Russie', 'Hongrie', 'Pologne','Roumanie','République Tchèque','République de Moldavie','Slovaquie','Ukraine']\n",
    "mask = ~df1['pays'].isin(list_pays)\n",
    "df1.loc[mask,'pays']= 'Ukraine'\n"
   ]
  },
  {
   "cell_type": "markdown",
   "id": "48dc0355",
   "metadata": {},
   "source": [
    "#  et les irreguralites"
   ]
  },
  {
   "cell_type": "code",
   "execution_count": 86,
   "id": "37126fbb",
   "metadata": {},
   "outputs": [
    {
     "data": {
      "application/vnd.microsoft.datawrangler.viewer.v0+json": {
       "columns": [
        {
         "name": "index",
         "rawType": "object",
         "type": "string"
        },
        {
         "name": "Period",
         "rawType": "object",
         "type": "unknown"
        },
        {
         "name": "Sales",
         "rawType": "float64",
         "type": "float"
        }
       ],
       "conversionMethod": "pd.DataFrame",
       "ref": "98f222f4-269e-4a13-94c8-d4d038ae1f8d",
       "rows": [
        [
         "count",
         "1115",
         "1115.0"
        ],
        [
         "mean",
         "2020-04-14 04:45:25.022421504",
         "5107.662089686099"
        ],
        [
         "min",
         "2019-05-01 00:00:00",
         "16.34"
        ],
        [
         "25%",
         "2019-10-01 00:00:00",
         "2677.685"
        ],
        [
         "50%",
         "2020-04-01 00:00:00",
         "5094.79"
        ],
        [
         "75%",
         "2020-10-01 00:00:00",
         "7629.16"
        ],
        [
         "max",
         "2021-04-01 00:00:00",
         "9990.99"
        ],
        [
         "std",
         null,
         "2907.5335330069697"
        ]
       ],
       "shape": {
        "columns": 2,
        "rows": 8
       }
      },
      "text/html": [
       "<div>\n",
       "<style scoped>\n",
       "    .dataframe tbody tr th:only-of-type {\n",
       "        vertical-align: middle;\n",
       "    }\n",
       "\n",
       "    .dataframe tbody tr th {\n",
       "        vertical-align: top;\n",
       "    }\n",
       "\n",
       "    .dataframe thead th {\n",
       "        text-align: right;\n",
       "    }\n",
       "</style>\n",
       "<table border=\"1\" class=\"dataframe\">\n",
       "  <thead>\n",
       "    <tr style=\"text-align: right;\">\n",
       "      <th></th>\n",
       "      <th>Period</th>\n",
       "      <th>Sales</th>\n",
       "    </tr>\n",
       "  </thead>\n",
       "  <tbody>\n",
       "    <tr>\n",
       "      <th>count</th>\n",
       "      <td>1115</td>\n",
       "      <td>1115.000000</td>\n",
       "    </tr>\n",
       "    <tr>\n",
       "      <th>mean</th>\n",
       "      <td>2020-04-14 04:45:25.022421504</td>\n",
       "      <td>5107.662090</td>\n",
       "    </tr>\n",
       "    <tr>\n",
       "      <th>min</th>\n",
       "      <td>2019-05-01 00:00:00</td>\n",
       "      <td>16.340000</td>\n",
       "    </tr>\n",
       "    <tr>\n",
       "      <th>25%</th>\n",
       "      <td>2019-10-01 00:00:00</td>\n",
       "      <td>2677.685000</td>\n",
       "    </tr>\n",
       "    <tr>\n",
       "      <th>50%</th>\n",
       "      <td>2020-04-01 00:00:00</td>\n",
       "      <td>5094.790000</td>\n",
       "    </tr>\n",
       "    <tr>\n",
       "      <th>75%</th>\n",
       "      <td>2020-10-01 00:00:00</td>\n",
       "      <td>7629.160000</td>\n",
       "    </tr>\n",
       "    <tr>\n",
       "      <th>max</th>\n",
       "      <td>2021-04-01 00:00:00</td>\n",
       "      <td>9990.990000</td>\n",
       "    </tr>\n",
       "    <tr>\n",
       "      <th>std</th>\n",
       "      <td>NaN</td>\n",
       "      <td>2907.533533</td>\n",
       "    </tr>\n",
       "  </tbody>\n",
       "</table>\n",
       "</div>"
      ],
      "text/plain": [
       "                              Period        Sales\n",
       "count                           1115  1115.000000\n",
       "mean   2020-04-14 04:45:25.022421504  5107.662090\n",
       "min              2019-05-01 00:00:00    16.340000\n",
       "25%              2019-10-01 00:00:00  2677.685000\n",
       "50%              2020-04-01 00:00:00  5094.790000\n",
       "75%              2020-10-01 00:00:00  7629.160000\n",
       "max              2021-04-01 00:00:00  9990.990000\n",
       "std                              NaN  2907.533533"
      ]
     },
     "execution_count": 86,
     "metadata": {},
     "output_type": "execute_result"
    }
   ],
   "source": [
    "df1.describe()"
   ]
  },
  {
   "cell_type": "markdown",
   "id": "000722d6",
   "metadata": {},
   "source": [
    "# les valeurs maquantes "
   ]
  },
  {
   "cell_type": "code",
   "execution_count": 87,
   "id": "b742183b",
   "metadata": {},
   "outputs": [
    {
     "data": {
      "text/plain": [
       "Sub_Region_Cod    0\n",
       "  Country_Cod     0\n",
       "pays              0\n",
       "Categ             0\n",
       "Period            0\n",
       "Product_Ref       0\n",
       "Sales             0\n",
       "dtype: int64"
      ]
     },
     "execution_count": 87,
     "metadata": {},
     "output_type": "execute_result"
    }
   ],
   "source": [
    "df1.isnull().sum()"
   ]
  },
  {
   "cell_type": "code",
   "execution_count": 88,
   "id": "f45f8a61",
   "metadata": {},
   "outputs": [
    {
     "name": "stdout",
     "output_type": "stream",
     "text": [
      "\n",
      " les 5CA les plus bas sont:\n",
      "\n"
     ]
    },
    {
     "data": {
      "application/vnd.microsoft.datawrangler.viewer.v0+json": {
       "columns": [
        {
         "name": "index",
         "rawType": "int64",
         "type": "integer"
        },
        {
         "name": "Sub_Region_Cod",
         "rawType": "object",
         "type": "string"
        },
        {
         "name": "  Country_Cod",
         "rawType": "object",
         "type": "string"
        },
        {
         "name": "pays",
         "rawType": "object",
         "type": "string"
        },
        {
         "name": "Categ",
         "rawType": "object",
         "type": "string"
        },
        {
         "name": "Period",
         "rawType": "datetime64[ns]",
         "type": "datetime"
        },
        {
         "name": "Product_Ref",
         "rawType": "object",
         "type": "string"
        },
        {
         "name": "Sales",
         "rawType": "float64",
         "type": "float"
        }
       ],
       "conversionMethod": "pd.DataFrame",
       "ref": "b703469f-8f92-4ffb-881a-b73584b93c39",
       "rows": [
        [
         "294",
         "EUE",
         "CZE",
         "République Tchèque",
         "Haut",
         "2020-05-01 00:00:00",
         "P04202",
         "16.34"
        ],
        [
         "339",
         "EUE",
         "SVK",
         "Slovaquie",
         "Haut-Et-Bas",
         "2020-09-01 00:00:00",
         "P27142",
         "23.99"
        ],
        [
         "466",
         "EUE",
         "BLR",
         "Bélarus",
         "Bas",
         "2019-08-01 00:00:00",
         "P32594",
         "31.54"
        ],
        [
         "5",
         "EUE",
         "RUS",
         "Fédération de Russie",
         "Haut",
         "2020-09-01 00:00:00",
         "P42148",
         "46.42"
        ],
        [
         "227",
         "EUE",
         "UKR",
         "Ukraine",
         "Haut",
         "2019-05-01 00:00:00",
         "P08803",
         "47.41"
        ]
       ],
       "shape": {
        "columns": 7,
        "rows": 5
       }
      },
      "text/html": [
       "<div>\n",
       "<style scoped>\n",
       "    .dataframe tbody tr th:only-of-type {\n",
       "        vertical-align: middle;\n",
       "    }\n",
       "\n",
       "    .dataframe tbody tr th {\n",
       "        vertical-align: top;\n",
       "    }\n",
       "\n",
       "    .dataframe thead th {\n",
       "        text-align: right;\n",
       "    }\n",
       "</style>\n",
       "<table border=\"1\" class=\"dataframe\">\n",
       "  <thead>\n",
       "    <tr style=\"text-align: right;\">\n",
       "      <th></th>\n",
       "      <th>Sub_Region_Cod</th>\n",
       "      <th>Country_Cod</th>\n",
       "      <th>pays</th>\n",
       "      <th>Categ</th>\n",
       "      <th>Period</th>\n",
       "      <th>Product_Ref</th>\n",
       "      <th>Sales</th>\n",
       "    </tr>\n",
       "  </thead>\n",
       "  <tbody>\n",
       "    <tr>\n",
       "      <th>294</th>\n",
       "      <td>EUE</td>\n",
       "      <td>CZE</td>\n",
       "      <td>République Tchèque</td>\n",
       "      <td>Haut</td>\n",
       "      <td>2020-05-01</td>\n",
       "      <td>P04202</td>\n",
       "      <td>16.34</td>\n",
       "    </tr>\n",
       "    <tr>\n",
       "      <th>339</th>\n",
       "      <td>EUE</td>\n",
       "      <td>SVK</td>\n",
       "      <td>Slovaquie</td>\n",
       "      <td>Haut-Et-Bas</td>\n",
       "      <td>2020-09-01</td>\n",
       "      <td>P27142</td>\n",
       "      <td>23.99</td>\n",
       "    </tr>\n",
       "    <tr>\n",
       "      <th>466</th>\n",
       "      <td>EUE</td>\n",
       "      <td>BLR</td>\n",
       "      <td>Bélarus</td>\n",
       "      <td>Bas</td>\n",
       "      <td>2019-08-01</td>\n",
       "      <td>P32594</td>\n",
       "      <td>31.54</td>\n",
       "    </tr>\n",
       "    <tr>\n",
       "      <th>5</th>\n",
       "      <td>EUE</td>\n",
       "      <td>RUS</td>\n",
       "      <td>Fédération de Russie</td>\n",
       "      <td>Haut</td>\n",
       "      <td>2020-09-01</td>\n",
       "      <td>P42148</td>\n",
       "      <td>46.42</td>\n",
       "    </tr>\n",
       "    <tr>\n",
       "      <th>227</th>\n",
       "      <td>EUE</td>\n",
       "      <td>UKR</td>\n",
       "      <td>Ukraine</td>\n",
       "      <td>Haut</td>\n",
       "      <td>2019-05-01</td>\n",
       "      <td>P08803</td>\n",
       "      <td>47.41</td>\n",
       "    </tr>\n",
       "  </tbody>\n",
       "</table>\n",
       "</div>"
      ],
      "text/plain": [
       "    Sub_Region_Cod   Country_Cod                  pays        Categ  \\\n",
       "294            EUE           CZE    République Tchèque         Haut   \n",
       "339            EUE           SVK             Slovaquie  Haut-Et-Bas   \n",
       "466            EUE           BLR               Bélarus          Bas   \n",
       "5              EUE           RUS  Fédération de Russie         Haut   \n",
       "227            EUE           UKR               Ukraine         Haut   \n",
       "\n",
       "        Period Product_Ref  Sales  \n",
       "294 2020-05-01      P04202  16.34  \n",
       "339 2020-09-01      P27142  23.99  \n",
       "466 2019-08-01      P32594  31.54  \n",
       "5   2020-09-01      P42148  46.42  \n",
       "227 2019-05-01      P08803  47.41  "
      ]
     },
     "execution_count": 88,
     "metadata": {},
     "output_type": "execute_result"
    }
   ],
   "source": [
    "sort =df1.sort_values('Sales', ascending= True)\n",
    "print(f'\\n les 5CA les plus bas sont:\\n')\n",
    "sort.head(5)"
   ]
  },
  {
   "cell_type": "code",
   "execution_count": 89,
   "id": "f2aa49ed",
   "metadata": {},
   "outputs": [
    {
     "name": "stdout",
     "output_type": "stream",
     "text": [
      "\n",
      " les 5CA les plus haut sont:\n",
      "\n"
     ]
    },
    {
     "data": {
      "application/vnd.microsoft.datawrangler.viewer.v0+json": {
       "columns": [
        {
         "name": "index",
         "rawType": "int64",
         "type": "integer"
        },
        {
         "name": "Sub_Region_Cod",
         "rawType": "object",
         "type": "string"
        },
        {
         "name": "  Country_Cod",
         "rawType": "object",
         "type": "string"
        },
        {
         "name": "pays",
         "rawType": "object",
         "type": "string"
        },
        {
         "name": "Categ",
         "rawType": "object",
         "type": "string"
        },
        {
         "name": "Period",
         "rawType": "datetime64[ns]",
         "type": "datetime"
        },
        {
         "name": "Product_Ref",
         "rawType": "object",
         "type": "string"
        },
        {
         "name": "Sales",
         "rawType": "float64",
         "type": "float"
        }
       ],
       "conversionMethod": "pd.DataFrame",
       "ref": "1f957eaa-cc7b-4620-b13a-fadf848cdb00",
       "rows": [
        [
         "728",
         "EUE",
         "POL",
         "Pologne",
         "Bas",
         "2020-05-01 00:00:00",
         "P46891",
         "9990.99"
        ],
        [
         "1031",
         "EUE",
         "ROU",
         "Roumanie",
         "Haut",
         "2019-12-01 00:00:00",
         "P34348",
         "9974.25"
        ],
        [
         "904",
         "EUE",
         "BLR",
         "Bélarus",
         "Bas",
         "2019-12-01 00:00:00",
         "P32994",
         "9973.96"
        ],
        [
         "1113",
         "EUE",
         "HUN",
         "Hongrie",
         "Bas",
         "2020-11-01 00:00:00",
         "P22923",
         "9970.65"
        ],
        [
         "157",
         "EUE",
         "ARM",
         "Arménie",
         "Haut",
         "2020-02-01 00:00:00",
         "P32123",
         "9953.61"
        ]
       ],
       "shape": {
        "columns": 7,
        "rows": 5
       }
      },
      "text/html": [
       "<div>\n",
       "<style scoped>\n",
       "    .dataframe tbody tr th:only-of-type {\n",
       "        vertical-align: middle;\n",
       "    }\n",
       "\n",
       "    .dataframe tbody tr th {\n",
       "        vertical-align: top;\n",
       "    }\n",
       "\n",
       "    .dataframe thead th {\n",
       "        text-align: right;\n",
       "    }\n",
       "</style>\n",
       "<table border=\"1\" class=\"dataframe\">\n",
       "  <thead>\n",
       "    <tr style=\"text-align: right;\">\n",
       "      <th></th>\n",
       "      <th>Sub_Region_Cod</th>\n",
       "      <th>Country_Cod</th>\n",
       "      <th>pays</th>\n",
       "      <th>Categ</th>\n",
       "      <th>Period</th>\n",
       "      <th>Product_Ref</th>\n",
       "      <th>Sales</th>\n",
       "    </tr>\n",
       "  </thead>\n",
       "  <tbody>\n",
       "    <tr>\n",
       "      <th>728</th>\n",
       "      <td>EUE</td>\n",
       "      <td>POL</td>\n",
       "      <td>Pologne</td>\n",
       "      <td>Bas</td>\n",
       "      <td>2020-05-01</td>\n",
       "      <td>P46891</td>\n",
       "      <td>9990.99</td>\n",
       "    </tr>\n",
       "    <tr>\n",
       "      <th>1031</th>\n",
       "      <td>EUE</td>\n",
       "      <td>ROU</td>\n",
       "      <td>Roumanie</td>\n",
       "      <td>Haut</td>\n",
       "      <td>2019-12-01</td>\n",
       "      <td>P34348</td>\n",
       "      <td>9974.25</td>\n",
       "    </tr>\n",
       "    <tr>\n",
       "      <th>904</th>\n",
       "      <td>EUE</td>\n",
       "      <td>BLR</td>\n",
       "      <td>Bélarus</td>\n",
       "      <td>Bas</td>\n",
       "      <td>2019-12-01</td>\n",
       "      <td>P32994</td>\n",
       "      <td>9973.96</td>\n",
       "    </tr>\n",
       "    <tr>\n",
       "      <th>1113</th>\n",
       "      <td>EUE</td>\n",
       "      <td>HUN</td>\n",
       "      <td>Hongrie</td>\n",
       "      <td>Bas</td>\n",
       "      <td>2020-11-01</td>\n",
       "      <td>P22923</td>\n",
       "      <td>9970.65</td>\n",
       "    </tr>\n",
       "    <tr>\n",
       "      <th>157</th>\n",
       "      <td>EUE</td>\n",
       "      <td>ARM</td>\n",
       "      <td>Arménie</td>\n",
       "      <td>Haut</td>\n",
       "      <td>2020-02-01</td>\n",
       "      <td>P32123</td>\n",
       "      <td>9953.61</td>\n",
       "    </tr>\n",
       "  </tbody>\n",
       "</table>\n",
       "</div>"
      ],
      "text/plain": [
       "     Sub_Region_Cod   Country_Cod      pays Categ     Period Product_Ref  \\\n",
       "728             EUE           POL   Pologne   Bas 2020-05-01      P46891   \n",
       "1031            EUE           ROU  Roumanie  Haut 2019-12-01      P34348   \n",
       "904             EUE           BLR   Bélarus   Bas 2019-12-01      P32994   \n",
       "1113            EUE           HUN   Hongrie   Bas 2020-11-01      P22923   \n",
       "157             EUE           ARM   Arménie  Haut 2020-02-01      P32123   \n",
       "\n",
       "        Sales  \n",
       "728   9990.99  \n",
       "1031  9974.25  \n",
       "904   9973.96  \n",
       "1113  9970.65  \n",
       "157   9953.61  "
      ]
     },
     "execution_count": 89,
     "metadata": {},
     "output_type": "execute_result"
    }
   ],
   "source": [
    "sort1 =df1.sort_values('Sales', ascending= False)\n",
    "print(f'\\n les 5CA les plus haut sont:\\n')\n",
    "sort1.head(5)"
   ]
  },
  {
   "cell_type": "markdown",
   "id": "ea82e2ff",
   "metadata": {},
   "source": [
    "# agregation des donnees pour mieux visualiser"
   ]
  },
  {
   "cell_type": "code",
   "execution_count": 90,
   "id": "bc6bceb9",
   "metadata": {},
   "outputs": [
    {
     "data": {
      "text/plain": [
       "pays\n",
       "Arménie                   566823.51\n",
       "Bulgarie                  523698.74\n",
       "Bélarus                   534110.29\n",
       "Fédération de Russie      578770.91\n",
       "Hongrie                   497901.17\n",
       "Pologne                   481774.77\n",
       "Roumanie                  439821.85\n",
       "République Tchèque        614292.30\n",
       "République de Moldavie    467384.30\n",
       "Slovaquie                 552386.27\n",
       "Ukraine                   438079.12\n",
       "Name: Sales, dtype: float64"
      ]
     },
     "execution_count": 90,
     "metadata": {},
     "output_type": "execute_result"
    }
   ],
   "source": [
    "agdf1=df1.groupby('pays')['Sales'].sum()\n",
    "agdf1"
   ]
  },
  {
   "cell_type": "markdown",
   "id": "99e31948",
   "metadata": {},
   "source": []
  },
  {
   "cell_type": "markdown",
   "id": "3dc89e52",
   "metadata": {},
   "source": [
    "# la vusialisation des de CA par pays "
   ]
  },
  {
   "cell_type": "code",
   "execution_count": 91,
   "id": "42cbd669",
   "metadata": {},
   "outputs": [
    {
     "name": "stderr",
     "output_type": "stream",
     "text": [
      "C:\\Users\\TOSHIBA\\AppData\\Local\\Temp\\ipykernel_8096\\4126739716.py:1: FutureWarning: \n",
      "\n",
      "The `ci` parameter is deprecated. Use `errorbar=None` for the same effect.\n",
      "\n",
      "  sns.barplot(data=df1 ,x='pays', y='Sales',hue='pays',ci=None)\n"
     ]
    },
    {
     "data": {
      "image/png": "[encoded data removed]",
      "text/plain": [
       "<Figure size 640x480 with 1 Axes>"
      ]
     },
     "metadata": {},
     "output_type": "display_data"
    }
   ],
   "source": [
    "sns.barplot(data=df1 ,x='pays', y='Sales',hue='pays',ci=None)\n",
    "plt.xticks(rotation=85)\n",
    "plt.show()"
   ]
  },
  {
   "cell_type": "markdown",
   "id": "032613b7",
   "metadata": {},
   "source": [
    "# diagrame en cercle "
   ]
  },
  {
   "cell_type": "code",
   "execution_count": 92,
   "id": "76b8d750",
   "metadata": {},
   "outputs": [
    {
     "data": {
      "image/png": "[encoded data removed]",
      "text/plain": [
       "<Figure size 640x480 with 1 Axes>"
      ]
     },
     "metadata": {},
     "output_type": "display_data"
    }
   ],
   "source": [
    "sort1['pays'].value_counts(normalize=True).plot(kind='pie', autopct='%1.1f%%')\n",
    "plt.show()"
   ]
  }
 ],
 "metadata": {
  "kernelspec": {
   "display_name": "Python 3",
   "language": "python",
   "name": "python3"
  },
  "language_info": {
   "codemirror_mode": {
    "name": "ipython",
    "version": 3
   },
   "file_extension": ".py",
   "mimetype": "text/x-python",
   "name": "python",
   "nbconvert_exporter": "python",
   "pygments_lexer": "ipython3",
   "version": "3.13.1"
  }
 },
 "nbformat": 4,
 "nbformat_minor": 5
}
